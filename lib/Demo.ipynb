{
 "cells": [
  {
   "cell_type": "code",
   "execution_count": 1,
   "id": "46ec4a35-e3fd-4ca1-8e99-6ee549aa5173",
   "metadata": {},
   "outputs": [],
   "source": [
    "import osmnxelevate as oe"
   ]
  },
  {
   "cell_type": "code",
   "execution_count": 2,
   "id": "8c58ac2b-1105-4641-94ce-c8d5d2cded4b",
   "metadata": {},
   "outputs": [
    {
     "name": "stdout",
     "output_type": "stream",
     "text": [
      "Current working directory changed to C:\\Users\\Sidrcs\\Documents\\Github\\Elevation_OSM\n"
     ]
    }
   ],
   "source": [
    "ndst = oe.NetworkDataset(place = \"Midland, Midland County, TX, USA\",\n",
    "                        raster_fpath = r\"C:\\Users\\Sidrcs\\Documents\\Github\\Elevation_OSM\\Midland_DEM\",\n",
    "                        output_fpath = r\"C:\\Users\\Sidrcs\\Documents\\Github\\Elevation_OSM\")"
   ]
  },
  {
   "cell_type": "markdown",
   "id": "3d1c3008-3363-4a3b-aee7-d8b374864ac9",
   "metadata": {},
   "source": [
    "GeoPackage layer extract code from <a href=\"https://stackoverflow.com/questions/56165069/can-geopandas-get-a-geopackages-or-other-vector-file-all-layers\">StackOverFlow</a>"
   ]
  },
  {
   "cell_type": "code",
   "execution_count": 3,
   "id": "1877db6a-2e8d-463d-9d60-be8ca220ccd8",
   "metadata": {},
   "outputs": [],
   "source": [
    "gdf = ndst.bind_elevation_to_edges()"
   ]
  },
  {
   "cell_type": "code",
   "execution_count": 4,
   "id": "5795da95-622e-403a-b2dc-bd05ca57d2aa",
   "metadata": {},
   "outputs": [
    {
     "data": {
      "text/plain": [
       "u               int64\n",
       "v               int64\n",
       "key             int64\n",
       "osmid          object\n",
       "name           object\n",
       "highway        object\n",
       "oneway           bool\n",
       "reversed       object\n",
       "length        float64\n",
       "from            int64\n",
       "to              int64\n",
       "lanes          object\n",
       "ref            object\n",
       "maxspeed       object\n",
       "bridge         object\n",
       "access         object\n",
       "junction       object\n",
       "y             float64\n",
       "x             float64\n",
       "street          int64\n",
       "from_elev      object\n",
       "to_elev        object\n",
       "geometry     geometry\n",
       "dtype: object"
      ]
     },
     "execution_count": 4,
     "metadata": {},
     "output_type": "execute_result"
    }
   ],
   "source": [
    "gdf.dtypes"
   ]
  },
  {
   "cell_type": "code",
   "execution_count": 5,
   "id": "6c61984e-a991-4aaa-b7f9-7c648e937536",
   "metadata": {},
   "outputs": [],
   "source": [
    "reclass_dict = {\"from_elev\": float, \"to_elev\":float}\n",
    "gdf = gdf.astype(reclass_dict)"
   ]
  },
  {
   "cell_type": "code",
   "execution_count": 6,
   "id": "09ca106b-f72d-4fe2-a114-d10377d9f093",
   "metadata": {},
   "outputs": [],
   "source": [
    "gdf.to_file(\"test.gpkg\", driver=\"GPKG\")"
   ]
  },
  {
   "cell_type": "code",
   "execution_count": null,
   "id": "bba428da-000a-49c2-b550-d1590c3f4b80",
   "metadata": {},
   "outputs": [],
   "source": []
  }
 ],
 "metadata": {
  "kernelspec": {
   "display_name": "Python 3 (ipykernel)",
   "language": "python",
   "name": "python3"
  },
  "language_info": {
   "codemirror_mode": {
    "name": "ipython",
    "version": 3
   },
   "file_extension": ".py",
   "mimetype": "text/x-python",
   "name": "python",
   "nbconvert_exporter": "python",
   "pygments_lexer": "ipython3",
   "version": "3.11.5"
  }
 },
 "nbformat": 4,
 "nbformat_minor": 5
}
