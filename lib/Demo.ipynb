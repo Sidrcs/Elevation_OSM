{
 "cells": [
  {
   "cell_type": "code",
   "execution_count": 1,
   "id": "46ec4a35-e3fd-4ca1-8e99-6ee549aa5173",
   "metadata": {},
   "outputs": [],
   "source": [
    "import osmnxelevate as oe"
   ]
  },
  {
   "cell_type": "code",
   "execution_count": 4,
   "id": "8c58ac2b-1105-4641-94ce-c8d5d2cded4b",
   "metadata": {},
   "outputs": [
    {
     "name": "stdout",
     "output_type": "stream",
     "text": [
      "Current working directory changed to C:\\Users\\Sidrcs\\Documents\\Github\\Elevation_OSM\n"
     ]
    }
   ],
   "source": [
    "ndst = oe.NetworkDataset(place = \"Midland, Midland County, TX, USA\",\n",
    "                        raster_fpath = r\"C:\\Users\\Sidrcs\\Documents\\Github\\Elevation_OSM\\Midland_DEM\",\n",
    "                        output_fpath = r\"C:\\Users\\Sidrcs\\Documents\\Github\\Elevation_OSM\")"
   ]
  },
  {
   "cell_type": "markdown",
   "id": "3d1c3008-3363-4a3b-aee7-d8b374864ac9",
   "metadata": {},
   "source": [
    "GeoPackage layer extract code from <a href=\"https://stackoverflow.com/questions/56165069/can-geopandas-get-a-geopackages-or-other-vector-file-all-layers\">StackOverFlow</a>"
   ]
  },
  {
   "cell_type": "code",
   "execution_count": 5,
   "id": "1877db6a-2e8d-463d-9d60-be8ca220ccd8",
   "metadata": {},
   "outputs": [
    {
     "name": "stdout",
     "output_type": "stream",
     "text": [
      "Cannot perform elevation bind. Raster bounds not found for 217 points for coordinates range (-102.2690109, 31.922019, -102.039138, 32.1089001)\n"
     ]
    },
    {
     "ename": "TypeError",
     "evalue": "'NoneType' object does not support item assignment",
     "output_type": "error",
     "traceback": [
      "\u001b[1;31m---------------------------------------------------------------------------\u001b[0m",
      "\u001b[1;31mTypeError\u001b[0m                                 Traceback (most recent call last)",
      "File \u001b[1;32m<timed eval>:1\u001b[0m\n",
      "File \u001b[1;32m~\\Documents\\Github\\Elevation_OSM\\lib\\osmnxelevate\\elevation.py:129\u001b[0m, in \u001b[0;36mbind_elevation_to_network\u001b[1;34m(self)\u001b[0m\n\u001b[0;32m    126\u001b[0m \u001b[38;5;28;01mdef\u001b[39;00m \u001b[38;5;21m_bind_elevation_to_nodes\u001b[39m(\u001b[38;5;28mself\u001b[39m, gdf_dict, bounds_dict):\n\u001b[0;32m    127\u001b[0m \u001b[38;5;250m    \u001b[39m\u001b[38;5;124;03m\"\"\"Function to bind elevation to nodes geodataframe\u001b[39;00m\n\u001b[0;32m    128\u001b[0m \n\u001b[1;32m--> 129\u001b[0m \u001b[38;5;124;03m    Parameters\u001b[39;00m\n\u001b[0;32m    130\u001b[0m \u001b[38;5;124;03m    ----------\u001b[39;00m\n\u001b[0;32m    131\u001b[0m \u001b[38;5;124;03m    gdf_dict: dict\u001b[39;00m\n\u001b[0;32m    132\u001b[0m \u001b[38;5;124;03m        GeoDataFrame dictionary of nodes and edges of queried place\u001b[39;00m\n\u001b[0;32m    133\u001b[0m \u001b[38;5;124;03m            keys: 'nodes', 'edges'\u001b[39;00m\n\u001b[0;32m    134\u001b[0m \u001b[38;5;124;03m            values: nodes_gdf, edges_gdf\u001b[39;00m\n\u001b[0;32m    135\u001b[0m \u001b[38;5;124;03m    bounds_dict: dict\u001b[39;00m\n\u001b[0;32m    136\u001b[0m \u001b[38;5;124;03m        Bounding box dictionary of rasters file paths and raster bounds\u001b[39;00m\n\u001b[0;32m    137\u001b[0m \n\u001b[0;32m    138\u001b[0m \u001b[38;5;124;03m    Returns\u001b[39;00m\n\u001b[0;32m    139\u001b[0m \u001b[38;5;124;03m    ----------\u001b[39;00m\n\u001b[0;32m    140\u001b[0m \u001b[38;5;124;03m    node_gdf: GeoDataFrame\u001b[39;00m\n\u001b[0;32m    141\u001b[0m \u001b[38;5;124;03m        Output GeoDataFrame consists of 'elev' column which extracts elevation\u001b[39;00m\n\u001b[0;32m    142\u001b[0m \u001b[38;5;124;03m        from raster and appends it to corresponding node in meters (m)\u001b[39;00m\n\u001b[0;32m    143\u001b[0m \u001b[38;5;124;03m    \"\"\"\u001b[39;00m\n\u001b[0;32m    144\u001b[0m     node_gdf \u001b[38;5;241m=\u001b[39m \u001b[38;5;28mself\u001b[39m\u001b[38;5;241m.\u001b[39m_append_raster_fname(gdf_dict, bounds_dict)\n\u001b[0;32m    145\u001b[0m     node_gdf[\u001b[38;5;124m\"\u001b[39m\u001b[38;5;124melev\u001b[39m\u001b[38;5;124m\"\u001b[39m] \u001b[38;5;241m=\u001b[39m \u001b[38;5;28;01mNone\u001b[39;00m\n",
      "File \u001b[1;32m~\\Documents\\Github\\Elevation_OSM\\lib\\osmnxelevate\\elevation.py:107\u001b[0m, in \u001b[0;36m_bind_elevation_to_nodes\u001b[1;34m(self, gdf_dict, bounds_dict)\u001b[0m\n\u001b[0;32m     94\u001b[0m \u001b[38;5;28;01mdef\u001b[39;00m \u001b[38;5;21m_append_raster_fname\u001b[39m(\u001b[38;5;28mself\u001b[39m, gdf_dict, bounds_dict):\n\u001b[0;32m     95\u001b[0m \u001b[38;5;250m    \u001b[39m\u001b[38;5;124;03m\"\"\"Function appends raster file path if a point is within a raster bounds\u001b[39;00m\n\u001b[0;32m     96\u001b[0m \u001b[38;5;124;03m    \u001b[39;00m\n\u001b[0;32m     97\u001b[0m \u001b[38;5;124;03m    Parameters\u001b[39;00m\n\u001b[0;32m     98\u001b[0m \u001b[38;5;124;03m    ----------\u001b[39;00m\n\u001b[0;32m     99\u001b[0m \u001b[38;5;124;03m    gdf_dict: dict\u001b[39;00m\n\u001b[0;32m    100\u001b[0m \u001b[38;5;124;03m        GeoDataFrame dictionary of nodes and edges of queried place\u001b[39;00m\n\u001b[0;32m    101\u001b[0m \u001b[38;5;124;03m            keys: 'nodes', 'edges'\u001b[39;00m\n\u001b[0;32m    102\u001b[0m \u001b[38;5;124;03m            values: nodes_gdf, edges_gdf\u001b[39;00m\n\u001b[0;32m    103\u001b[0m \u001b[38;5;124;03m    bounds_dict: dict\u001b[39;00m\n\u001b[0;32m    104\u001b[0m \u001b[38;5;124;03m        Bounding box dictionary of rasters file paths and raster bounds\u001b[39;00m\n\u001b[0;32m    105\u001b[0m \n\u001b[0;32m    106\u001b[0m \u001b[38;5;124;03m    Returns\u001b[39;00m\n\u001b[1;32m--> 107\u001b[0m \u001b[38;5;124;03m    ----------\u001b[39;00m\n\u001b[0;32m    108\u001b[0m \u001b[38;5;124;03m    node_gdf: GeoDataFrame\u001b[39;00m\n\u001b[0;32m    109\u001b[0m \u001b[38;5;124;03m        Creates a GeoDataFrame with column 'fname'\u001b[39;00m\n\u001b[0;32m    110\u001b[0m \u001b[38;5;124;03m        'fname' stores raster file paths for points if within bounds\u001b[39;00m\n\u001b[0;32m    111\u001b[0m \u001b[38;5;124;03m    \"\"\"\u001b[39;00m\n\u001b[0;32m    112\u001b[0m     \u001b[38;5;28;01mtry\u001b[39;00m:\n\u001b[0;32m    113\u001b[0m         node_gdf \u001b[38;5;241m=\u001b[39m gdf_dict[\u001b[38;5;124m\"\u001b[39m\u001b[38;5;124mnodes\u001b[39m\u001b[38;5;124m\"\u001b[39m]\n",
      "\u001b[1;31mTypeError\u001b[0m: 'NoneType' object does not support item assignment"
     ]
    }
   ],
   "source": [
    "%%time\n",
    "ndst.bind_elevation_to_network()"
   ]
  },
  {
   "cell_type": "code",
   "execution_count": null,
   "id": "bba428da-000a-49c2-b550-d1590c3f4b80",
   "metadata": {},
   "outputs": [],
   "source": []
  }
 ],
 "metadata": {
  "kernelspec": {
   "display_name": "Python 3 (ipykernel)",
   "language": "python",
   "name": "python3"
  },
  "language_info": {
   "codemirror_mode": {
    "name": "ipython",
    "version": 3
   },
   "file_extension": ".py",
   "mimetype": "text/x-python",
   "name": "python",
   "nbconvert_exporter": "python",
   "pygments_lexer": "ipython3",
   "version": "3.11.5"
  }
 },
 "nbformat": 4,
 "nbformat_minor": 5
}
