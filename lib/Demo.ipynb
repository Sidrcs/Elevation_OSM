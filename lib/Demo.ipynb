{
 "cells": [
  {
   "cell_type": "code",
   "execution_count": 1,
   "id": "46ec4a35-e3fd-4ca1-8e99-6ee549aa5173",
   "metadata": {},
   "outputs": [],
   "source": [
    "import osmnxelevate as oe"
   ]
  },
  {
   "cell_type": "markdown",
   "id": "7abea149-7acb-4df2-a478-e6b36dc82271",
   "metadata": {},
   "source": [
    "Users can download the Digital Elevation Model (DEM) for Midland City to run this code in the notebook <a href=\"https://uwmadison.box.com/s/jyvnoqoj48oqtaawz8b4mxuq4rffz5pa\">link</a>"
   ]
  },
  {
   "cell_type": "code",
   "execution_count": 2,
   "id": "8c58ac2b-1105-4641-94ce-c8d5d2cded4b",
   "metadata": {},
   "outputs": [
    {
     "name": "stdout",
     "output_type": "stream",
     "text": [
      "Current working directory changed to C:\\Users\\Sidrcs\\Documents\\Github\\Elevation_OSM\n"
     ]
    }
   ],
   "source": [
    "ndst = oe.NetworkDataset(place = \"Midland, Midland County, TX, USA\",\n",
    "                        raster_fpath = r\"C:\\Users\\Sidrcs\\Documents\\Github\\Elevation_OSM\\Midland_DEM\",\n",
    "                        output_fpath = r\"C:\\Users\\Sidrcs\\Documents\\Github\\Elevation_OSM\")"
   ]
  },
  {
   "cell_type": "markdown",
   "id": "3d1c3008-3363-4a3b-aee7-d8b374864ac9",
   "metadata": {},
   "source": [
    "GeoPackage layer extract code from <a href=\"https://stackoverflow.com/questions/56165069/can-geopandas-get-a-geopackages-or-other-vector-file-all-layers\">StackOverFlow</a>"
   ]
  },
  {
   "cell_type": "code",
   "execution_count": 3,
   "id": "1877db6a-2e8d-463d-9d60-be8ca220ccd8",
   "metadata": {},
   "outputs": [
    {
     "name": "stdout",
     "output_type": "stream",
     "text": [
      "Executing elevation binding process........\n",
      "Saved edge network to file path C:\\Users\\Sidrcs\\Documents\\Github\\Elevation_OSM\\egde_network.gpkg\n",
      "Saved edge network to file path C:\\Users\\Sidrcs\\Documents\\Github\\Elevation_OSM\\node_network.gpkg\n",
      "CPU times: total: 2min 7s\n",
      "Wall time: 2min 19s\n"
     ]
    }
   ],
   "source": [
    "%%time\n",
    "ndst.bind_elevation_to_network()"
   ]
  },
  {
   "cell_type": "code",
   "execution_count": null,
   "id": "a5cc5553-32e7-4121-81cc-d210acfe1f8b",
   "metadata": {},
   "outputs": [],
   "source": [
    "import matplotlib.pyplot as plt\n",
    "import geopandas as gpd\n",
    "\n",
    "# Desired figsize (width, height) in inches\n",
    "fig, ax = plt.subplots(figsize=(10, 5))\n",
    "\n",
    "edge_gdf = gpd.read_file(r\"edge_network.gpkg\")\n",
    "edge_gdf.plot(ax=ax, linewidth=0.5, column=\"from_elev\", legend=True,\n",
    "              legend_kwds={\"label\": \"From Elevation (m)\", \"orientation\": \"vertical\"}, cmap='coolwarm')\n",
    "\n",
    "ax.set_title('From Elevation Plot of Midland')\n",
    "ax.set_axis_off()\n",
    "\n",
    "# Show the plot\n",
    "plt.show()"
   ]
  },
  {
   "cell_type": "code",
   "execution_count": null,
   "id": "0e53516b-0b3b-422e-9443-b0661893e4e9",
   "metadata": {},
   "outputs": [],
   "source": []
  }
 ],
 "metadata": {
  "kernelspec": {
   "display_name": "Python 3 (ipykernel)",
   "language": "python",
   "name": "python3"
  },
  "language_info": {
   "codemirror_mode": {
    "name": "ipython",
    "version": 3
   },
   "file_extension": ".py",
   "mimetype": "text/x-python",
   "name": "python",
   "nbconvert_exporter": "python",
   "pygments_lexer": "ipython3",
   "version": "3.11.5"
  }
 },
 "nbformat": 4,
 "nbformat_minor": 5
}
