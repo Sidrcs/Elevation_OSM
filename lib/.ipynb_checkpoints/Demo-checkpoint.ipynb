{
 "cells": [
  {
   "cell_type": "code",
   "execution_count": 1,
   "id": "46ec4a35-e3fd-4ca1-8e99-6ee549aa5173",
   "metadata": {},
   "outputs": [],
   "source": [
    "import osmnxelevate as oe"
   ]
  },
  {
   "cell_type": "code",
   "execution_count": 2,
   "id": "8c58ac2b-1105-4641-94ce-c8d5d2cded4b",
   "metadata": {},
   "outputs": [
    {
     "name": "stdout",
     "output_type": "stream",
     "text": [
      "Current working directory changed to C:\\Users\\Sidrcs\\Documents\\Github\\Elevation_OSM\n"
     ]
    }
   ],
   "source": [
    "ndst = oe.NetworkDataset(place = \"Midland, Midland County, TX, USA\",\n",
    "                        raster_fpath = r\"C:\\Users\\Sidrcs\\Documents\\Github\\Elevation_OSM\\Midland_DEM\",\n",
    "                        output_fpath = r\"C:\\Users\\Sidrcs\\Documents\\Github\\Elevation_OSM\")"
   ]
  },
  {
   "cell_type": "code",
   "execution_count": 3,
   "id": "6b4377e4-04f5-4209-ad15-8ecdc1fe305a",
   "metadata": {},
   "outputs": [
    {
     "name": "stderr",
     "output_type": "stream",
     "text": [
      "C:\\Users\\Sidrcs\\Documents\\Github\\Elevation_OSM\\lib\\osmnxelevate\\elevation.py:51: UserWarning: The `save_graph_shapefile` function is deprecated and will be removed in a future release. Instead, use the `save_graph_geopackage` function to save graphs as GeoPackage files for subsequent GIS analysis.\n",
      "  ox.save_graph_shapefile(graph, fpath)\n",
      "C:\\Users\\Sidrcs\\anaconda3\\envs\\ox\\Lib\\site-packages\\osmnx\\io.py:117: UserWarning: Column names longer than 10 characters will be truncated when saved to ESRI Shapefile.\n",
      "  gdf_nodes.to_file(filepath_nodes, driver=\"ESRI Shapefile\", index=True, encoding=encoding)\n"
     ]
    }
   ],
   "source": [
    "sm_dict = ndst._read_geopackage()"
   ]
  },
  {
   "cell_type": "code",
   "execution_count": 5,
   "id": "a0a4f157-3751-4373-83e0-047ffee00f9c",
   "metadata": {},
   "outputs": [
    {
     "data": {
      "text/plain": [
       "{'C:\\\\Users\\\\Sidrcs\\\\Documents\\\\Github\\\\Elevation_OSM\\\\1m_Midland_DEM\\\\USGS_1m_x20y354_TX_West_Central_B4_2018.tif': <POLYGON ((-11361841.685 3757932.849, -11361841.685 3745764.632, -11373952.1...>,\n",
       " 'C:\\\\Users\\\\Sidrcs\\\\Documents\\\\Github\\\\Elevation_OSM\\\\1m_Midland_DEM\\\\USGS_1m_x20y355_TX_West_Central_B4_2018.tif': <POLYGON ((-11362174.731 3769758.846, -11362174.731 3757577.642, -11374298.1...>,\n",
       " 'C:\\\\Users\\\\Sidrcs\\\\Documents\\\\Github\\\\Elevation_OSM\\\\1m_Midland_DEM\\\\USGS_1m_x20y356_TX_West_Central_B4_2018.tif': <POLYGON ((-11362509.264 3781596.268, -11362509.264 3769402.027, -11374645.6...>,\n",
       " 'C:\\\\Users\\\\Sidrcs\\\\Documents\\\\Github\\\\Elevation_OSM\\\\1m_Midland_DEM\\\\USGS_1m_x76y355_TX_West_Central_B4_2018.tif': <POLYGON ((-11370205.458 3770717.466, -11370205.458 3758566.136, -11382297.7...>,\n",
       " 'C:\\\\Users\\\\Sidrcs\\\\Documents\\\\Github\\\\Elevation_OSM\\\\1m_Midland_DEM\\\\USGS_1m_x77y355_TX_West_Central_B4_2018.tif': <POLYGON ((-11358427.901 3770409.474, -11358427.901 3758247.402, -11370530.9...>}"
      ]
     },
     "execution_count": 5,
     "metadata": {},
     "output_type": "execute_result"
    }
   ],
   "source": [
    "ndst._extract_raster_bounds()"
   ]
  },
  {
   "cell_type": "code",
   "execution_count": 6,
   "id": "cc6a0550-596c-4df6-bedb-09a95b6916da",
   "metadata": {},
   "outputs": [
    {
     "name": "stderr",
     "output_type": "stream",
     "text": [
      "C:\\Users\\Sidrcs\\Documents\\Github\\Elevation_OSM\\lib\\osmnxelevate\\elevation.py:51: UserWarning: The `save_graph_shapefile` function is deprecated and will be removed in a future release. Instead, use the `save_graph_geopackage` function to save graphs as GeoPackage files for subsequent GIS analysis.\n",
      "  ox.save_graph_shapefile(graph, fpath)\n",
      "C:\\Users\\Sidrcs\\anaconda3\\envs\\ox\\Lib\\site-packages\\osmnx\\io.py:117: UserWarning: Column names longer than 10 characters will be truncated when saved to ESRI Shapefile.\n",
      "  gdf_nodes.to_file(filepath_nodes, driver=\"ESRI Shapefile\", index=True, encoding=encoding)\n"
     ]
    }
   ],
   "source": [
    "node_gdf = ndst._append_raster_fname()"
   ]
  },
  {
   "cell_type": "code",
   "execution_count": 7,
   "id": "3b9ee265-17ce-41aa-9bee-7c6b82b0c951",
   "metadata": {},
   "outputs": [
    {
     "data": {
      "text/html": [
       "<div>\n",
       "<style scoped>\n",
       "    .dataframe tbody tr th:only-of-type {\n",
       "        vertical-align: middle;\n",
       "    }\n",
       "\n",
       "    .dataframe tbody tr th {\n",
       "        vertical-align: top;\n",
       "    }\n",
       "\n",
       "    .dataframe thead th {\n",
       "        text-align: right;\n",
       "    }\n",
       "</style>\n",
       "<table border=\"1\" class=\"dataframe\">\n",
       "  <thead>\n",
       "    <tr style=\"text-align: right;\">\n",
       "      <th></th>\n",
       "      <th>osmid</th>\n",
       "      <th>y</th>\n",
       "      <th>x</th>\n",
       "      <th>street_cou</th>\n",
       "      <th>highway</th>\n",
       "      <th>ref</th>\n",
       "      <th>geometry</th>\n",
       "      <th>fname</th>\n",
       "    </tr>\n",
       "  </thead>\n",
       "  <tbody>\n",
       "    <tr>\n",
       "      <th>0</th>\n",
       "      <td>227119561</td>\n",
       "      <td>32.051585</td>\n",
       "      <td>-102.097694</td>\n",
       "      <td>3</td>\n",
       "      <td>NaN</td>\n",
       "      <td>NaN</td>\n",
       "      <td>POINT (-11365463.307 3770083.866)</td>\n",
       "      <td>C:\\Users\\Sidrcs\\Documents\\Github\\Elevation_OSM...</td>\n",
       "    </tr>\n",
       "    <tr>\n",
       "      <th>1</th>\n",
       "      <td>227119675</td>\n",
       "      <td>32.051125</td>\n",
       "      <td>-102.098976</td>\n",
       "      <td>1</td>\n",
       "      <td>turning_circle</td>\n",
       "      <td>NaN</td>\n",
       "      <td>POINT (-11365606.019 3770023.450)</td>\n",
       "      <td>C:\\Users\\Sidrcs\\Documents\\Github\\Elevation_OSM...</td>\n",
       "    </tr>\n",
       "    <tr>\n",
       "      <th>2</th>\n",
       "      <td>227119691</td>\n",
       "      <td>31.994311</td>\n",
       "      <td>-102.121742</td>\n",
       "      <td>3</td>\n",
       "      <td>NaN</td>\n",
       "      <td>NaN</td>\n",
       "      <td>POINT (-11368140.318 3762563.881)</td>\n",
       "      <td>C:\\Users\\Sidrcs\\Documents\\Github\\Elevation_OSM...</td>\n",
       "    </tr>\n",
       "    <tr>\n",
       "      <th>3</th>\n",
       "      <td>227119696</td>\n",
       "      <td>31.995644</td>\n",
       "      <td>-102.122176</td>\n",
       "      <td>3</td>\n",
       "      <td>NaN</td>\n",
       "      <td>NaN</td>\n",
       "      <td>POINT (-11368188.631 3762738.848)</td>\n",
       "      <td>C:\\Users\\Sidrcs\\Documents\\Github\\Elevation_OSM...</td>\n",
       "    </tr>\n",
       "    <tr>\n",
       "      <th>4</th>\n",
       "      <td>227119719</td>\n",
       "      <td>32.010517</td>\n",
       "      <td>-102.146385</td>\n",
       "      <td>3</td>\n",
       "      <td>NaN</td>\n",
       "      <td>NaN</td>\n",
       "      <td>POINT (-11370883.565 3764691.226)</td>\n",
       "      <td>C:\\Users\\Sidrcs\\Documents\\Github\\Elevation_OSM...</td>\n",
       "    </tr>\n",
       "  </tbody>\n",
       "</table>\n",
       "</div>"
      ],
      "text/plain": [
       "       osmid          y           x  street_cou         highway  ref  \\\n",
       "0  227119561  32.051585 -102.097694           3             NaN  NaN   \n",
       "1  227119675  32.051125 -102.098976           1  turning_circle  NaN   \n",
       "2  227119691  31.994311 -102.121742           3             NaN  NaN   \n",
       "3  227119696  31.995644 -102.122176           3             NaN  NaN   \n",
       "4  227119719  32.010517 -102.146385           3             NaN  NaN   \n",
       "\n",
       "                            geometry  \\\n",
       "0  POINT (-11365463.307 3770083.866)   \n",
       "1  POINT (-11365606.019 3770023.450)   \n",
       "2  POINT (-11368140.318 3762563.881)   \n",
       "3  POINT (-11368188.631 3762738.848)   \n",
       "4  POINT (-11370883.565 3764691.226)   \n",
       "\n",
       "                                               fname  \n",
       "0  C:\\Users\\Sidrcs\\Documents\\Github\\Elevation_OSM...  \n",
       "1  C:\\Users\\Sidrcs\\Documents\\Github\\Elevation_OSM...  \n",
       "2  C:\\Users\\Sidrcs\\Documents\\Github\\Elevation_OSM...  \n",
       "3  C:\\Users\\Sidrcs\\Documents\\Github\\Elevation_OSM...  \n",
       "4  C:\\Users\\Sidrcs\\Documents\\Github\\Elevation_OSM...  "
      ]
     },
     "execution_count": 7,
     "metadata": {},
     "output_type": "execute_result"
    }
   ],
   "source": [
    "node_gdf.head()"
   ]
  },
  {
   "cell_type": "code",
   "execution_count": 8,
   "id": "15aa2bc3-d235-4956-8edf-45b5652c92f8",
   "metadata": {},
   "outputs": [
    {
     "data": {
      "text/plain": [
       "array(['C:\\\\Users\\\\Sidrcs\\\\Documents\\\\Github\\\\Elevation_OSM\\\\1m_Midland_DEM\\\\USGS_1m_x77y355_TX_West_Central_B4_2018.tif',\n",
       "       'C:\\\\Users\\\\Sidrcs\\\\Documents\\\\Github\\\\Elevation_OSM\\\\1m_Midland_DEM\\\\USGS_1m_x76y355_TX_West_Central_B4_2018.tif',\n",
       "       None,\n",
       "       'C:\\\\Users\\\\Sidrcs\\\\Documents\\\\Github\\\\Elevation_OSM\\\\1m_Midland_DEM\\\\USGS_1m_x20y355_TX_West_Central_B4_2018.tif',\n",
       "       'C:\\\\Users\\\\Sidrcs\\\\Documents\\\\Github\\\\Elevation_OSM\\\\1m_Midland_DEM\\\\USGS_1m_x20y354_TX_West_Central_B4_2018.tif',\n",
       "       'C:\\\\Users\\\\Sidrcs\\\\Documents\\\\Github\\\\Elevation_OSM\\\\1m_Midland_DEM\\\\USGS_1m_x20y356_TX_West_Central_B4_2018.tif'],\n",
       "      dtype=object)"
      ]
     },
     "execution_count": 8,
     "metadata": {},
     "output_type": "execute_result"
    }
   ],
   "source": [
    "node_gdf[\"fname\"].unique()"
   ]
  },
  {
   "cell_type": "code",
   "execution_count": null,
   "id": "1a5a34d3-82fe-4dfa-8a97-3b8ddb838d69",
   "metadata": {},
   "outputs": [],
   "source": []
  }
 ],
 "metadata": {
  "kernelspec": {
   "display_name": "Python 3 (ipykernel)",
   "language": "python",
   "name": "python3"
  },
  "language_info": {
   "codemirror_mode": {
    "name": "ipython",
    "version": 3
   },
   "file_extension": ".py",
   "mimetype": "text/x-python",
   "name": "python",
   "nbconvert_exporter": "python",
   "pygments_lexer": "ipython3",
   "version": "3.11.5"
  }
 },
 "nbformat": 4,
 "nbformat_minor": 5
}
